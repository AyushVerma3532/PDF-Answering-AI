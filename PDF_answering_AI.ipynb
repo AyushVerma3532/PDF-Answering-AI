{
 "cells": [
  {
   "cell_type": "code",
   "execution_count": 3,
   "id": "65005ded-6a63-4812-a762-35e8e490855a",
   "metadata": {},
   "outputs": [
    {
     "name": "stdout",
     "output_type": "stream",
     "text": [
      "Requirement already satisfied: transformers in c:\\python311\\lib\\site-packages (4.41.2)\n",
      "Requirement already satisfied: filelock in c:\\users\\nitro\\appdata\\roaming\\python\\python311\\site-packages (from transformers) (3.12.0)\n",
      "Requirement already satisfied: huggingface-hub<1.0,>=0.23.0 in c:\\python311\\lib\\site-packages (from transformers) (0.23.4)\n",
      "Requirement already satisfied: numpy>=1.17 in c:\\python311\\lib\\site-packages (from transformers) (1.23.5)\n",
      "Requirement already satisfied: packaging>=20.0 in c:\\python311\\lib\\site-packages (from transformers) (23.1)\n",
      "Requirement already satisfied: pyyaml>=5.1 in c:\\python311\\lib\\site-packages (from transformers) (6.0.1)\n",
      "Requirement already satisfied: regex!=2019.12.17 in c:\\python311\\lib\\site-packages (from transformers) (2024.5.15)\n",
      "Requirement already satisfied: requests in c:\\python311\\lib\\site-packages (from transformers) (2.31.0)\n",
      "Requirement already satisfied: tokenizers<0.20,>=0.19 in c:\\python311\\lib\\site-packages (from transformers) (0.19.1)\n",
      "Requirement already satisfied: safetensors>=0.4.1 in c:\\python311\\lib\\site-packages (from transformers) (0.4.3)\n",
      "Requirement already satisfied: tqdm>=4.27 in c:\\python311\\lib\\site-packages (from transformers) (4.66.4)\n",
      "Requirement already satisfied: fsspec>=2023.5.0 in c:\\python311\\lib\\site-packages (from huggingface-hub<1.0,>=0.23.0->transformers) (2024.6.0)\n",
      "Requirement already satisfied: typing-extensions>=3.7.4.3 in c:\\users\\nitro\\appdata\\roaming\\python\\python311\\site-packages (from huggingface-hub<1.0,>=0.23.0->transformers) (4.11.0)\n",
      "Requirement already satisfied: colorama in c:\\python311\\lib\\site-packages (from tqdm>=4.27->transformers) (0.4.6)\n",
      "Requirement already satisfied: charset-normalizer<4,>=2 in c:\\python311\\lib\\site-packages (from requests->transformers) (3.3.2)\n",
      "Requirement already satisfied: idna<4,>=2.5 in c:\\python311\\lib\\site-packages (from requests->transformers) (3.7)\n",
      "Requirement already satisfied: urllib3<3,>=1.21.1 in c:\\python311\\lib\\site-packages (from requests->transformers) (1.26.15)\n",
      "Requirement already satisfied: certifi>=2017.4.17 in c:\\python311\\lib\\site-packages (from requests->transformers) (2024.2.2)\n"
     ]
    },
    {
     "name": "stderr",
     "output_type": "stream",
     "text": [
      "DEPRECATION: Loading egg at c:\\python311\\lib\\site-packages\\vboxapi-1.0-py3.11.egg is deprecated. pip 24.3 will enforce this behaviour change. A possible replacement is to use pip for package installation.. Discussion can be found at https://github.com/pypa/pip/issues/12330\n"
     ]
    }
   ],
   "source": [
    "!pip install transformers\n",
    "import fitz  # PyMuPDF\n",
    "import spacy\n",
    "from sklearn.feature_extraction.text import TfidfVectorizer\n",
    "from sklearn.metrics.pairwise import cosine_similarity"
   ]
  },
  {
   "cell_type": "code",
   "execution_count": 4,
   "id": "a2c4a855-1a29-4e31-911b-e0f3edfed5fd",
   "metadata": {},
   "outputs": [
    {
     "name": "stdout",
     "output_type": "stream",
     "text": [
      "Collecting en-core-web-sm==3.7.1\n",
      "  Downloading https://github.com/explosion/spacy-models/releases/download/en_core_web_sm-3.7.1/en_core_web_sm-3.7.1-py3-none-any.whl (12.8 MB)\n",
      "     ---------------------------------------- 0.0/12.8 MB ? eta -:--:--\n",
      "     ---------------------------------------- 0.1/12.8 MB 1.7 MB/s eta 0:00:08\n",
      "      --------------------------------------- 0.2/12.8 MB 2.8 MB/s eta 0:00:05\n",
      "     - -------------------------------------- 0.4/12.8 MB 3.4 MB/s eta 0:00:04\n",
      "     - -------------------------------------- 0.6/12.8 MB 3.9 MB/s eta 0:00:04\n",
      "     -- ------------------------------------- 0.9/12.8 MB 3.9 MB/s eta 0:00:04\n",
      "     --- ------------------------------------ 1.1/12.8 MB 4.2 MB/s eta 0:00:03\n",
      "     ---- ----------------------------------- 1.4/12.8 MB 4.3 MB/s eta 0:00:03\n",
      "     ---- ----------------------------------- 1.6/12.8 MB 4.4 MB/s eta 0:00:03\n",
      "     ----- ---------------------------------- 1.8/12.8 MB 4.5 MB/s eta 0:00:03\n",
      "     ------ --------------------------------- 2.1/12.8 MB 4.8 MB/s eta 0:00:03\n",
      "     ------- -------------------------------- 2.4/12.8 MB 5.0 MB/s eta 0:00:03\n",
      "     -------- ------------------------------- 2.8/12.8 MB 5.2 MB/s eta 0:00:02\n",
      "     --------- ------------------------------ 3.1/12.8 MB 5.3 MB/s eta 0:00:02\n",
      "     ---------- ----------------------------- 3.4/12.8 MB 5.4 MB/s eta 0:00:02\n",
      "     ----------- ---------------------------- 3.6/12.8 MB 5.4 MB/s eta 0:00:02\n",
      "     ------------ --------------------------- 4.0/12.8 MB 5.6 MB/s eta 0:00:02\n",
      "     ------------- -------------------------- 4.4/12.8 MB 5.7 MB/s eta 0:00:02\n",
      "     -------------- ------------------------- 4.8/12.8 MB 5.8 MB/s eta 0:00:02\n",
      "     --------------- ------------------------ 5.1/12.8 MB 5.9 MB/s eta 0:00:02\n",
      "     ---------------- ----------------------- 5.4/12.8 MB 6.0 MB/s eta 0:00:02\n",
      "     ------------------ --------------------- 5.9/12.8 MB 6.1 MB/s eta 0:00:02\n",
      "     ------------------- -------------------- 6.2/12.8 MB 6.2 MB/s eta 0:00:02\n",
      "     -------------------- ------------------- 6.6/12.8 MB 6.3 MB/s eta 0:00:01\n",
      "     --------------------- ------------------ 6.9/12.8 MB 6.3 MB/s eta 0:00:01\n",
      "     ---------------------- ----------------- 7.2/12.8 MB 6.3 MB/s eta 0:00:01\n",
      "     ----------------------- ---------------- 7.6/12.8 MB 6.5 MB/s eta 0:00:01\n",
      "     ------------------------ --------------- 7.9/12.8 MB 6.5 MB/s eta 0:00:01\n",
      "     -------------------------- ------------- 8.4/12.8 MB 6.6 MB/s eta 0:00:01\n",
      "     -------------------------- ------------- 8.6/12.8 MB 6.6 MB/s eta 0:00:01\n",
      "     ---------------------------- ----------- 9.0/12.8 MB 6.6 MB/s eta 0:00:01\n",
      "     ----------------------------- ---------- 9.3/12.8 MB 6.6 MB/s eta 0:00:01\n",
      "     ------------------------------ --------- 9.6/12.8 MB 6.6 MB/s eta 0:00:01\n",
      "     ------------------------------- -------- 10.0/12.8 MB 6.7 MB/s eta 0:00:01\n",
      "     -------------------------------- ------- 10.3/12.8 MB 6.6 MB/s eta 0:00:01\n",
      "     --------------------------------- ------ 10.6/12.8 MB 6.9 MB/s eta 0:00:01\n",
      "     ---------------------------------- ----- 11.0/12.8 MB 7.1 MB/s eta 0:00:01\n",
      "     ----------------------------------- ---- 11.4/12.8 MB 7.2 MB/s eta 0:00:01\n",
      "     ------------------------------------ --- 11.8/12.8 MB 7.4 MB/s eta 0:00:01\n",
      "     ------------------------------------- -- 12.1/12.8 MB 7.5 MB/s eta 0:00:01\n",
      "     ---------------------------------------  12.6/12.8 MB 7.7 MB/s eta 0:00:01\n",
      "     ---------------------------------------  12.8/12.8 MB 7.6 MB/s eta 0:00:01\n",
      "     ---------------------------------------- 12.8/12.8 MB 7.4 MB/s eta 0:00:00\n",
      "Requirement already satisfied: spacy<3.8.0,>=3.7.2 in c:\\python311\\lib\\site-packages (from en-core-web-sm==3.7.1) (3.7.4)\n",
      "Requirement already satisfied: spacy-legacy<3.1.0,>=3.0.11 in c:\\python311\\lib\\site-packages (from spacy<3.8.0,>=3.7.2->en-core-web-sm==3.7.1) (3.0.12)\n",
      "Requirement already satisfied: spacy-loggers<2.0.0,>=1.0.0 in c:\\python311\\lib\\site-packages (from spacy<3.8.0,>=3.7.2->en-core-web-sm==3.7.1) (1.0.5)\n",
      "Requirement already satisfied: murmurhash<1.1.0,>=0.28.0 in c:\\python311\\lib\\site-packages (from spacy<3.8.0,>=3.7.2->en-core-web-sm==3.7.1) (1.0.10)\n",
      "Requirement already satisfied: cymem<2.1.0,>=2.0.2 in c:\\python311\\lib\\site-packages (from spacy<3.8.0,>=3.7.2->en-core-web-sm==3.7.1) (2.0.8)\n",
      "Requirement already satisfied: preshed<3.1.0,>=3.0.2 in c:\\python311\\lib\\site-packages (from spacy<3.8.0,>=3.7.2->en-core-web-sm==3.7.1) (3.0.9)\n",
      "Requirement already satisfied: thinc<8.3.0,>=8.2.2 in c:\\python311\\lib\\site-packages (from spacy<3.8.0,>=3.7.2->en-core-web-sm==3.7.1) (8.2.3)\n",
      "Requirement already satisfied: wasabi<1.2.0,>=0.9.1 in c:\\python311\\lib\\site-packages (from spacy<3.8.0,>=3.7.2->en-core-web-sm==3.7.1) (1.1.2)\n",
      "Requirement already satisfied: srsly<3.0.0,>=2.4.3 in c:\\python311\\lib\\site-packages (from spacy<3.8.0,>=3.7.2->en-core-web-sm==3.7.1) (2.4.8)\n",
      "Requirement already satisfied: catalogue<2.1.0,>=2.0.6 in c:\\python311\\lib\\site-packages (from spacy<3.8.0,>=3.7.2->en-core-web-sm==3.7.1) (2.0.10)\n",
      "Requirement already satisfied: weasel<0.4.0,>=0.1.0 in c:\\python311\\lib\\site-packages (from spacy<3.8.0,>=3.7.2->en-core-web-sm==3.7.1) (0.3.4)\n",
      "Requirement already satisfied: typer<0.10.0,>=0.3.0 in c:\\python311\\lib\\site-packages (from spacy<3.8.0,>=3.7.2->en-core-web-sm==3.7.1) (0.9.4)\n",
      "Requirement already satisfied: smart-open<7.0.0,>=5.2.1 in c:\\python311\\lib\\site-packages (from spacy<3.8.0,>=3.7.2->en-core-web-sm==3.7.1) (6.4.0)\n",
      "Requirement already satisfied: tqdm<5.0.0,>=4.38.0 in c:\\python311\\lib\\site-packages (from spacy<3.8.0,>=3.7.2->en-core-web-sm==3.7.1) (4.66.4)\n",
      "Requirement already satisfied: requests<3.0.0,>=2.13.0 in c:\\python311\\lib\\site-packages (from spacy<3.8.0,>=3.7.2->en-core-web-sm==3.7.1) (2.31.0)\n",
      "Requirement already satisfied: pydantic!=1.8,!=1.8.1,<3.0.0,>=1.7.4 in c:\\python311\\lib\\site-packages (from spacy<3.8.0,>=3.7.2->en-core-web-sm==3.7.1) (2.7.1)\n",
      "Requirement already satisfied: jinja2 in c:\\users\\nitro\\appdata\\roaming\\python\\python311\\site-packages (from spacy<3.8.0,>=3.7.2->en-core-web-sm==3.7.1) (3.1.2)\n",
      "Requirement already satisfied: setuptools in c:\\python311\\lib\\site-packages (from spacy<3.8.0,>=3.7.2->en-core-web-sm==3.7.1) (65.5.0)\n",
      "Requirement already satisfied: packaging>=20.0 in c:\\python311\\lib\\site-packages (from spacy<3.8.0,>=3.7.2->en-core-web-sm==3.7.1) (23.1)\n",
      "Requirement already satisfied: langcodes<4.0.0,>=3.2.0 in c:\\python311\\lib\\site-packages (from spacy<3.8.0,>=3.7.2->en-core-web-sm==3.7.1) (3.4.0)\n",
      "Requirement already satisfied: numpy>=1.19.0 in c:\\python311\\lib\\site-packages (from spacy<3.8.0,>=3.7.2->en-core-web-sm==3.7.1) (1.23.5)\n",
      "Requirement already satisfied: language-data>=1.2 in c:\\python311\\lib\\site-packages (from langcodes<4.0.0,>=3.2.0->spacy<3.8.0,>=3.7.2->en-core-web-sm==3.7.1) (1.2.0)\n",
      "Requirement already satisfied: annotated-types>=0.4.0 in c:\\python311\\lib\\site-packages (from pydantic!=1.8,!=1.8.1,<3.0.0,>=1.7.4->spacy<3.8.0,>=3.7.2->en-core-web-sm==3.7.1) (0.6.0)\n",
      "Requirement already satisfied: pydantic-core==2.18.2 in c:\\python311\\lib\\site-packages (from pydantic!=1.8,!=1.8.1,<3.0.0,>=1.7.4->spacy<3.8.0,>=3.7.2->en-core-web-sm==3.7.1) (2.18.2)\n",
      "Requirement already satisfied: typing-extensions>=4.6.1 in c:\\users\\nitro\\appdata\\roaming\\python\\python311\\site-packages (from pydantic!=1.8,!=1.8.1,<3.0.0,>=1.7.4->spacy<3.8.0,>=3.7.2->en-core-web-sm==3.7.1) (4.11.0)\n",
      "Requirement already satisfied: charset-normalizer<4,>=2 in c:\\python311\\lib\\site-packages (from requests<3.0.0,>=2.13.0->spacy<3.8.0,>=3.7.2->en-core-web-sm==3.7.1) (3.3.2)\n",
      "Requirement already satisfied: idna<4,>=2.5 in c:\\python311\\lib\\site-packages (from requests<3.0.0,>=2.13.0->spacy<3.8.0,>=3.7.2->en-core-web-sm==3.7.1) (3.7)\n",
      "Requirement already satisfied: urllib3<3,>=1.21.1 in c:\\python311\\lib\\site-packages (from requests<3.0.0,>=2.13.0->spacy<3.8.0,>=3.7.2->en-core-web-sm==3.7.1) (1.26.15)\n",
      "Requirement already satisfied: certifi>=2017.4.17 in c:\\python311\\lib\\site-packages (from requests<3.0.0,>=2.13.0->spacy<3.8.0,>=3.7.2->en-core-web-sm==3.7.1) (2024.2.2)\n",
      "Requirement already satisfied: blis<0.8.0,>=0.7.8 in c:\\python311\\lib\\site-packages (from thinc<8.3.0,>=8.2.2->spacy<3.8.0,>=3.7.2->en-core-web-sm==3.7.1) (0.7.11)\n",
      "Requirement already satisfied: confection<1.0.0,>=0.0.1 in c:\\python311\\lib\\site-packages (from thinc<8.3.0,>=8.2.2->spacy<3.8.0,>=3.7.2->en-core-web-sm==3.7.1) (0.1.4)\n",
      "Requirement already satisfied: colorama in c:\\python311\\lib\\site-packages (from tqdm<5.0.0,>=4.38.0->spacy<3.8.0,>=3.7.2->en-core-web-sm==3.7.1) (0.4.6)\n",
      "Requirement already satisfied: click<9.0.0,>=7.1.1 in c:\\python311\\lib\\site-packages (from typer<0.10.0,>=0.3.0->spacy<3.8.0,>=3.7.2->en-core-web-sm==3.7.1) (8.1.7)\n",
      "Requirement already satisfied: cloudpathlib<0.17.0,>=0.7.0 in c:\\python311\\lib\\site-packages (from weasel<0.4.0,>=0.1.0->spacy<3.8.0,>=3.7.2->en-core-web-sm==3.7.1) (0.16.0)\n",
      "Requirement already satisfied: MarkupSafe>=2.0 in c:\\users\\nitro\\appdata\\roaming\\python\\python311\\site-packages (from jinja2->spacy<3.8.0,>=3.7.2->en-core-web-sm==3.7.1) (2.1.3)\n",
      "Requirement already satisfied: marisa-trie>=0.7.7 in c:\\python311\\lib\\site-packages (from language-data>=1.2->langcodes<4.0.0,>=3.2.0->spacy<3.8.0,>=3.7.2->en-core-web-sm==3.7.1) (1.1.1)\n",
      "\u001b[38;5;2m✔ Download and installation successful\u001b[0m\n",
      "You can now load the package via spacy.load('en_core_web_sm')\n"
     ]
    },
    {
     "name": "stderr",
     "output_type": "stream",
     "text": [
      "DEPRECATION: Loading egg at c:\\python311\\lib\\site-packages\\vboxapi-1.0-py3.11.egg is deprecated. pip 24.3 will enforce this behaviour change. A possible replacement is to use pip for package installation.. Discussion can be found at https://github.com/pypa/pip/issues/12330\n"
     ]
    }
   ],
   "source": [
    "!python -m spacy download en_core_web_sm\n",
    "nlp=spacy.load('en_core_web_sm', disable=['ner', 'parser'])"
   ]
  },
  {
   "cell_type": "code",
   "execution_count": 5,
   "id": "b7f87768-1702-4bd0-8936-dc4ba410d494",
   "metadata": {},
   "outputs": [],
   "source": [
    "def extract_text_from_pdf(pdf_path):\n",
    "    doc = fitz.open(pdf_path)\n",
    "    text = \"\"\n",
    "    for page_num in range(doc.page_count):\n",
    "        page = doc.load_page(page_num)\n",
    "        if page_num!=1 and page_num!=2 and page_num!=0:\n",
    "            text += page.get_text()\n",
    "    return text\n",
    "\n",
    "pdf_path = \"C:\\\\Users\\\\NITRO\\\\Downloads\\\\1. Robinson Crusoe Author Daniel Defoe-compressed.pdf\""
   ]
  },
  {
   "cell_type": "code",
   "execution_count": 6,
   "id": "7651cbde-cb5d-4d3f-b952-2d82452cd046",
   "metadata": {},
   "outputs": [
    {
     "name": "stderr",
     "output_type": "stream",
     "text": [
      "c:\\Python311\\Lib\\site-packages\\tqdm\\auto.py:21: TqdmWarning: IProgress not found. Please update jupyter and ipywidgets. See https://ipywidgets.readthedocs.io/en/stable/user_install.html\n",
      "  from .autonotebook import tqdm as notebook_tqdm\n"
     ]
    }
   ],
   "source": [
    "from transformers import pipeline\n",
    "\n",
    "# Load a pre-trained model for question answering\n",
    "model_name = \"distilbert/distilbert-base-cased-distilled-squad\"\n",
    "\n",
    "# Create the question-answering pipeline with the specified model and revision\n",
    "question_answering_model = pipeline(\"question-answering\", model=model_name)\n"
   ]
  },
  {
   "cell_type": "code",
   "execution_count": 7,
   "id": "080f6017-f1e5-4044-92ae-9a047bd77102",
   "metadata": {},
   "outputs": [],
   "source": [
    "def sentence(pdf_text):\n",
    "    sentence=pdf_text.split('.')\n",
    "    for i in range(len(sentence)):\n",
    "        sentence[i]=sentence[i].replace('\\n',' ' )\n",
    "    return sentence"
   ]
  },
  {
   "cell_type": "code",
   "execution_count": 8,
   "id": "4975bc2c-c302-4d17-8255-6bc208b1e7f4",
   "metadata": {},
   "outputs": [],
   "source": [
    "def tokenize(doc):\n",
    "    tokenized_sentences = []\n",
    "    for d in doc:\n",
    "        tokenized_sentence = \"\"\n",
    "        for t in nlp(d):\n",
    "            if not t.is_stop and not t.is_punct and len(t.text) > 2 and not t.is_space:\n",
    "                tokenized_sentence += t.lemma_.lower() + \" \"  # Added a space after each token\n",
    "        if tokenized_sentence!='':\n",
    "            tokenized_sentences.append(tokenized_sentence.strip())  # Remove trailing space\n",
    "    return tokenized_sentences\n"
   ]
  },
  {
   "cell_type": "code",
   "execution_count": 9,
   "id": "c9999bdb-cb52-4fc1-a297-73b805dc1b1f",
   "metadata": {},
   "outputs": [],
   "source": [
    "tokenized_texts=tokenize(sentence(extract_text_from_pdf(pdf_path)))"
   ]
  },
  {
   "cell_type": "code",
   "execution_count": 10,
   "id": "550aacfb-a056-4a85-a3e4-5b9010623203",
   "metadata": {},
   "outputs": [
    {
     "name": "stdout",
     "output_type": "stream",
     "text": [
      "Best match: ('4. First Weeks On The Island ', '4. First Weeks On The Island ', 'all other things apart till I got everything out of the ship that I could get. Then I called a ')\n",
      "Best similarity: 0.4576897168166385\n",
      "Answer:   When I waked it was broad day, the weather clear, and the storm abated, so that the sea did  not rage and swell as before. But that which surprised me most was, that the ship was lifted  off in the night from the sand where she lay, by the swelling of the tide, and was driven up  almost as far as the rock which I first mentioned, where I had been so bruised by the dashing  me against it. This being within about a mile from the shore where I was, and the ship  seeming to stand upright still, I wished myself on board, that, at least, I might have some  necessary things for my use.  When I came down from my apartment in the tree I looked about me again, and the first thing  I found was the boat, which lay as the wind and the sea had tossed her up upon the land,  about two miles on my right hand. I walked as far as I could upon the shore to have got to  her, but found a neck or inlet of water between me and the boat, which was about half a mile  broad; so I came back for the present, being more intent upon getting at the ship, where I  hoped to find something for my present subsistence.  A little after noon I found the sea very calm, and the tide ebbed so far out, that I could come  within a quarter of a mile of the ship; and here I found a fresh renewing of my grief, for I saw  evidently, that if we had kept on board we had been all safe, that is to say, we had all got safe  on shore, and I had not been so miserable as to be left entirely destitute of all comfort and  company, and I now was. This forced tears from my eyes again; but as there was little relief  in that, I resolved, if possible, to get to the ship; so I pulled off my clothes, for the weather  was hot to extremity, and took the water. But when I came to the ship, my difficulty was still  greater to know how to get on board; for as she lay aground, and high out of the water, there  was nothing within my reach to lay hold of. I swam round her twice, and the second time I  spied a small piece of rope, which I wondered I did not see at first, hang down by the fore- chains so low as that with great difficulty I got hold of it, and by the help of that rope got up  into the forecastle of the ship. Here I found that the ship was bulged, and had a great deal of  water in her hold, but that she lay so on the side of a bank of hard sand, or rather earth, that  her stern lay lifted up upon the bank, and her head low almost to the water. By this means all  her quarter was free, and all that was in that part was dry; for you may be sure my first work  was to search and to see what was spoiled and what was free. And first I found that all the  ship’s provisions were dry and untouched by the water; and being very well disposed to eat, I  went to the bread-room and filled my pockets with biscuit, and eat it as I went about other  things, for I had no time to lose. I also found some rum in the great cabin, of which I took a  large dram, and which I had indeed need enough of to spirit me for what was before me. Now  I wanted nothing but a boat, to furnish myself with many things which I foresaw would be  very necessary to me.  It was in vain to sit still and wish for what was not to be had, and this extremity roused my  application. We had several spare yards, and two or three large spars of wood, and a spare  topmast or two in the ship. I resolved to fall to work with these, and flung as many of them  overboard as I could manage for their weight, tying every one with a rope, that they might not  drive away. When this was done I went down the ship’s side, and, pulling them to me, I tied  four of them fast together at both ends as well as I could, in the form of a raft; and laying two  or three short pieces of plank upon them, crossways, I found I could walk upon it very well,  but that it was not able to bear any great weight, the pieces being too light. So I went to work,  and with the carpenter’s saw I cut up a spare topmast into three lengths, and added them to  my raft, with a great deal of labor and pains; but hope of furnishing myself with necessaries  encouraged me to go beyond what I should have been able to have done upon another  occasion.  My raft was not strong enough to bear any reasonable weight. My next care was what to load  it with, and how to preserve what I laid upon it from the surf of the sea; but I was not long  considering this. I first laid all the planks or boards upon it that I could get, and having  considered well what I most wanted, I first got three of the seamen’s chests, which I had  broken open and emptied, and lowered them down upon my raft. The first of these I filled  with provisions, viz., bread, rice, three Dutch cheeses, five pieces of dried goat’s flesh, which  we lived much upon, and a little remainder of European corn, which had been laid by for  some fowls which we brought to sea with us, but the fowls were killed. There had been some  barley and wheat together, but, to my great disappointment, I found afterwards that the rats  had eaten or spoiled it all. As for liquors, I found several cases of bottles belonging to our  skipper, in which were some cordial waters, and, in all, about five or six gallons of rack.  These I stowed by themselves, there being no need to put them into the chest, nor no room for  them. While I was doing this, I found the tide began to flow, though very calm, and I had the  mortification to see my coat, shirt, and waistcoat, which I had left on shore upon the sand,  swim away; as for my breeches, which were only linen, and open-kneed, I swam on board in  them, and my stockings. However, this put me upon rummaging for clothes, of which I found  enough, but took no more than I wanted for present use; for I had other things which my eye  was more upon, as first tools to work with on shore; and it was after long searching that I  found out the carpenter’s chest, which was indeed a very useful prize to me, and much more  valuable than a ship-loading of gold would have been at that time. I got it down to my raft,  even whole as it was, without losing time to look into it, for I knew in general what it  contained.  My next care was for some ammunition and arms; there were two very good fowling-pieces  in the great cabin, and two pistols; these I secured first, with some powder-horns, and a small  bag of shot, and two old rusty swords. I knew there were three barrels of powder in the ship,  but knew not where our gunner had stowed them; but with much search I found them, two of  them dry and good, third had taken water; those two I got to my raft with the arms. And now  I thought myself pretty well frighted, and began to think how I should get to shore with them,  having neither sail, oar, nor rudder; and the least capful of wind would have overset all my  navigation.  I had three encouragements. 1. A smooth, calm sea. 2. The tide rising and setting in to the  shore. 3. What little wind there was blew me towards the land. And thus, having found two or  three broken oars belonging to the boat, and besides the tools which were in the chest, I found  two saws, an axe, and a hammer, and with this cargo I put to sea. For a mile or thereabouts  my raft went very well, only that I found it drive a little distant from the place where I had  landed before, by which I perceived that there was some indraft of water, and consequently I  hoped to find some creek or river there, which I might make use of as a port to get to land  with my cargo.  As I imagined, so it was; there appeared before me a little opening of the land, and I found a  strong current of the tide set into it, so I guided my raft as well as I could to keep in the  middle of the stream. But here I had like to have suffered a second shipwreck, which, if I had,  I think verily would have broke my heart, for knowing nothing of the coast, my raft ran  aground at one end of it upon a shoal, and not being aground at the other end, it wanted but a  little that all my cargo had slipped off towards that end that was afloat, and so fallen into the  water. I did my utmost by setting my back against the chests to keep them in their places, but  could not thrust off the raft with all my strength, neither durst I stir from the posture I was in,  but holding up the chests with all my might, stood in that manner near half an hour, in which  time the rising of the water brought me a little more upon a level; and a little after, the water  still rising, my raft floated again, and I thrust her off with the oar I had into the channel, and  then driving up higher, I at length found myself in the mouth of a little river, with land on  both sides, and a strong current or tide running up. I looked on both sides for a proper place  to get to shore, for I was not willing to be driven too high up the river, hoping in time to see  some ship at sea, and therefore resolved to place myself as near the coast as I could.  At length I spied a little cove on the right shore of the creek, to which, with great pain and  difficulty, I guided my raft, and at last got so near, as that, reaching ground with my oar, I  could thrust her directly in; but here I had like to have dipped all my cargo in the sea again;  for that shore lying pretty steep, that is to say, sloping, there was no place to land but where  one end of my float, if it run on shore, would lie so high and the other sink lower, as before,  that it would endanger my cargo again. All that I could do was to wait till the tide was at the  highest, keeping the raft with my oar like an anchor to hold the side of it fast to the shore,  near a flat piece of ground, which I expected the water would flow over; and so it did. As  soon as I found water enough, for my raft drew about a foot of water, I thrust her on upon that  flat piece of ground, and there fastened or moored her by sticking my two broken oars into  the ground; one on one side near the end, and one on the other side near the other end; and  thus I lay till the water ebbed away, and left my raft and all my cargo safe on shore.  My next work was to view the country, and seek a proper place for my habitation, and where  to stow my goods to secure them from whatever might happen. Where I was, I yet knew not;  whether on the continent, or on an island; whether inhabited, or not inhabited; whether in  danger of wild beasts, or not. There was a hill, not above a mile from me, which rose up very  steep and high, and which seemed to overtop some other hills, which lay as in a ridge from it,  northward. I took out one of the fowling-pieces and one of the pistols, and a horn of powder;  and thus armed, I travelled for discovery up to the top of that hill, where, after I had with  great labor and difficulty got to the top, I saw my fate to my great affliction, viz., that I was in  an island environed every way with the sea, no land to be seen, except some rocks which lay  a great way off, and two small islands less than this, which lay about three leagues to the  west.  I found also that the island I was in was barren, and, as I saw good reason to believe,  uninhabited, except by wild beasts, of whom, however, I saw none; yet I saw abundance of  fowls, but knew not their kind; neither, when I killed them, could I tell what was fit for food,  and what not. At my coming back, I shot at a great bird which I saw sitting upon a tree on the  side of a great wood. I believe it was the first gun that had been fired there since the creation  of the world. I had no sooner fired, but from all the parts of the wood there arose an  innumerable number of fowls of many sorts, making a confused screaming, and crying, every  one according to his usual note; but not one of them of any kind that I knew. As for the  creature I killed, I took it to be a kind of a hawk, its color and beak resembling it, but had no  talons or claws more than common; its flesh was carrion, and fit for nothing.  Contented with this discovery, I came back to raft, and fell to work to bring my cargo on  shore, which took me up the rest of that day; and what to do with myself at night, I knew not,  or, indeed, where to rest; for I was afraid to lie down on the ground, not knowing but some  wild beast might devour me, though, as I afterwards found, there was really no need for those  fears. However, as well as I could, I barricaded myself round with the chests and boards that I  had brought on shore, and made a kind of a hut for that night’s lodging; as for food, I yet saw  not which way to supply myself, except that I had seen two or three creatures like hares run  out of the wood where I shot the fowl.  I now began to consider that I might yet get a great many things out of the ship, which would  be useful to me, and particularly some of the rigging and sails, and such other things as might  come to land; and I resolved to make another voyage on board the vessel, if possible. And as  I knew that the first storm that blew must necessarily break her all in pieces, I resolved to set  all other things apart till I got everything out of the ship that I could get. Then I called a  council, that is to say, in my thoughts, whether I should take back the raft, but this appeared  impracticable; so I resolved to go as before, when the tide was down: and I did so, only that I  stripped before I went from my hut, having nothing on but a checkered shirt and a pair of  linen drawers, and a pair of pumps on my feet.  I got on board the ship as before, and prepared a second raft, and having had experience of  the first, I neither made this so unwieldy, nor loaded it so hard; but yet I brought away several  things very useful to me; as, at first, in the carpenter’s stores I found two or three bags full of  nails and spikes, a great screw-jack, a dozen or two of hatchets, and above all, that most  useful thing called a grindstone. All these I secured, together with several things belonging to  the gunner, particularly two or three iron crows, and two barrels of musket bullets, seven  muskets, and another fowling-piece, with some small quantity of powder more; a large bag  full of small-shot, and a great roll of sheet-lead; but this last was so heavy, I could not hoist it  up to get it over the ship’s side. Besides these things, I took all the men’s clothes that I could  find, and a spare foretop sail, a hammock, and some bedding; and with this I loaded my  second raft, and brought them all safe on shore, to my very great comfort.  I was under some apprehensions during my absence from the land, that at least my provisions  might be devoured on shore; but when I came back, I found no sign of any visitor, only there  sat a creature like a wild cat upon one of the chests, which, when I came towards it, ran away  a little distance, and then stood still. She sat very composed and unconcerned, and looked full  in my face, as if she had a mind to be acquainted with me. I presented my gun at her; but as  she did not understand it, she was perfectly unconcerned at it, nor did she offer to stir away;  upon which I tossed her a bit of biscuit, though, by the way, I was not very free of it, for my  store was not great. However, I spared her a bit, I say, and she went to it, smelled of it, and  ate it, and looked (as pleased) for more; but I thanked her, and could spare no more, so she  marched off.  Having got my second cargo on shore, though I was fain to open the barrels of powder and  bring them by parcels, for they were too heavy, being large casks, I went to work to make me  a little tent with the sail and some poles which I cut for that purpose; and into this tent I  brought everything that I knew would spoil either with rain or sun; and I piled all the empty  chests and casks up in a circle round the tent, to fortify it from any sudden attempt, either  from man or beast.  When I has done this I blocked up the door of the tent with some boards within, and an empty  chest set up on end without; and spreading one of the beds upon the ground, laying my two  pistols just at my head, and my gun at length by me, I went to bed for the first time, and slept  very quietly all night, for I was very weary and heavy; for the night before I had slept little,  and had labored very hard all day, as well to fetch all those things from the ship, as to get  them on shore.  I had the biggest magazine of all kinds now that ever was laid up, I believe, for one man; but  I was not satisfied still, for while the ship sat upright in that posture, I thought I ought to get  everything out of her that I could. So every day at low water I went on board, and brought  away something or other; but, particularly, the third time I went I brought away as much of  the rigging as I could, as also all the small ropes and rope-twine I could get, with a piece of  spare canvas, which was to mend the sails upon occasion, the barrel of wet gunpowder; in a  word, I brought away all the sails first and last; only that I was fain to cut them in pieces, and  bring as much at a time as I could; for they were no more useful to be sails, but as mere  canvas only.  But that which comforted me more still was, that at last of all, after I had made five or six  such voyages as these, and thought I had nothing more to expect from the ship that was worth  my meddling with; I say, after all this, I found a great hogshead of bread, and three large  runlets of rum or spirits, and a box of sugar, and a barrel of fine flour; this was surprising to  me, because I had given over expecting any more provisions, except what was spoilt by the  water. I soon emptied the hogshead of that bread, and wrapped it up parcel by parcel in pieces  of the sails, which I cut out; and, in a word, I got all this safe on shore also.  The next day I made another voyage. And now, having plundered the ship of what was  portable and fit to hand out, I began with the cables; and cutting the great cable into pieces,  such as I could move, I got two cables and a hawser on shore, with all the iron-work I could  get; and having cut down the spritsail-yard, and the mizzen-yard, and everything I could to  make a large raft, I loaded it with all those heavy goods, and came away. But my good luck  began now to leave me; for this raft was so unwieldy, and so overladen, that after I was  entered the little cove where I had landed the rest of my goods, not being able to guide it so  handily as I did the other, it overset, and, threw me and all my cargo into the water. As for  myself, it was no great harm, for I was near the shore; but as to my cargo, it was great part of  it lost, especially the iron, which I expected would have been great use to me. However, when  the tide was out I got most of the pieces of cable ashore, and some of the iron, though with  infinite labor; for I was fain to dip for it into the water, a work which fatigued me very much.  After this I went every day on board, and brought away what I could get.  I have been now thirteen days on shore, and had been eleven times on board the ship; in  which time I had brought away all that one pair of hands could well be supposed capable to  bring, though I believe verily, had the calm weather held, I should have brought away the  whole ship piece by piece. But preparing the twelfth time to go on board, I found the wind  begin to rise. However, at low water I went on board, and though I thought I had rummaged  the cabin so effectually as that nothing more could be found, yet I discovered a locker with  drawers in it, in one of which I found two or three razors, and one pair of large scissors, with  some ten or a dozen of good knives and forks; in another, I found some thirty-six pounds  value in money, some European coin, some Brazil, some pieces of eight, some gold, some  silver.  I smiled to myself at the sight of this money. “O drug!” said I aloud, “what art thou good for?  Thou art not worth to me, no, not the taking off of the ground; one of those knives is worth all  this heap. I have no manner of use for thee; even remain where thou art, and go to the bottom  as a creature whose life is not worth saving.” However, upon second thoughts, I took it away;  and wrapping all this in a piece of canvas, I began to think of making another raft; but while I  was preparing this, I found the sky overcast, and the wind began to rise, and in a quarter of an  hour it blew a fresh gale from the shore. It presently occurred to me that it was in vain to  pretend to make a raft with the wind off shore, and that it was my business to be gone before  the tide of flood began, otherwise I might not be able to reach the shore at all. Accordingly I  let myself down into the water, and swam across the channel, which lay between the ship and  the sands, and even that with difficulty enough, partly with the weight of the things I had  about me, and partly the roughness of the water; for the wind rose very hastily, and before it  was quite high water it blew a storm.  But I was gotten home to my little tent, where I lay with all my wealth about me very secure.  It blew very hard all that night, and in the morning, when I looked out, behold, no more ship  was to be seen. I was a little surprised, but recovered myself with this satisfactory reflection,  viz., that I had lost no time, nor abated no diligence, to get everything out of her that could be  useful to me, and that indeed there was little left in her that I was able to bring away if I had  had more time.  I now gave over any more thoughts of the ship, or of anything out of her, except what might  drive on there from her wreck, as indeed divers pieces of her afterwards did; but those things  were of small use to me.  My thoughts were now wholly employed about securing myself against either savages, if any  should appear, or wild beasts, if any were in the island; and I had many thoughts of the  method how to do this, and what kind of dwelling to make, whether I should make me a cave  in the earth, or a tent upon the earth; and, in short, I resolved upon both, the manner and  description of which it may not be improper to give an account of.  I soon found the place I was in was not for my settlement, particularly because it was upon a  low moorish ground near the sea, and I believed would not be wholesome; and more  particularly because there was no fresh water near it. So I resolved to find a more healthy and  more convenient spot of ground.  I consulted several things in my situation, which I found would be proper for me. First, health  and fresh water, I just now mentioned. Secondly, shelter from the heat of the sun. Thirdly  security from ravenous creatures, whether men or beasts. Fourthly, a view to the sea, that if  God sent any ship in sight I might not lose any advantage for my deliverance, of which I was  not willing to banish all my expectation yet.  In search of a place proper for this, I found a little plain on the side of a rising hill, whose  front towards this little plain was steep as a house-side, so that nothing could come down  upon me from the top; on the side of this rock there was a hollow place, worn a little way in,  like the entrance or door of a cave; but there was not really any cave, or way into the rock at  all.  On the flat of the green, just before this hollow place, I resolved to pitch my tent. This plain  was not above a hundred yards broad, and about twice as long, and lay like a green before my  door, and at the end of it descended irregularly every way down into the low grounds by the  seaside. It was on the NNW. side of the hill, so that I was sheltered from the heat every day,  till it came to a W. and by S. sun, or thereabouts, which in those countries is near setting.  Before I set up my tent, I drew a half circle before the hollow place, which took in about ten  yards in its semi-diameter from the rock, and twenty yards in its diameter from its beginning  and ending. In this half circle I pitched two rows of strong stakes, driving them into the  ground till they stood very firm like piles, the biggest end being out of the ground about five  feet and a half, and sharpened on the top. The two rows did not stand above six inches from  one another.  Then I took the pieces of cable which I had cut in the ship, and laid them in rows one upon  another, within the circle, between these two rows of stakes, up to the top, placing other  stakes in the inside leaning against them, about two feet and a half high, like a spur to a post;  and this fence was so strong that neither man or beast could get into it, or over it. This cost  me a great deal of time and labor, especially to cut the piles in the woods, bring them to the  place, and drive them into the earth.  The entrance into this place I made to be not by a door, but by a short ladder to go over the  top; which ladder, when I was in, I lifted over after me, and so I was completely fenced in,  and fortified, as I thought, from all the world, and consequently slept secure in the night,  which otherwise I could not have done; though as it appeared afterward, there was no need of  all this caution from the enemies that I apprehended danger from.  Into this fence or fortress, with infinite labor, I carried all my riches, all my provisions,  ammunition, and stores, of which you have the account above; and I made me a large tent,  which, to preserve me from the rains that in one part of the year are very violent there, I made  double, viz., one smaller tent within, and one larger tent above it, and covered the uppermost  with a large tarpaulin, which I had saved among the sails. And now I lay no more for a while  in the bed which I had brought on shore, but in a hammock, which was indeed a very good  one, and belonged to the mate of the ship.  Into this tent I brought all my provisions, and everything that would spoil by the wet; and  having thus enclosed all my goods I made up the entrance, which, till now, I had left open,  and so passed and repassed, as I said, by a short ladder.  When I had done this, I began to work my way into the rock; and bringing all the earth and  stones that I dug down out through my tent, I laid them up within my fence in the nature of a  terrace, so that it raised the ground within about a foot and a half; and thus I made me a cave  just behind my tent, which served me like a cellar to my house.  It cost me much labor, and many days, before all these things were brought to perfection, and  therefore I must go back to some other things which took up some of my thoughts. At the  same time it happened, after I had laid my scheme for the setting up my tent, and making the  cave, that a storm of rain falling from a thick dark cloud, a sudden flash of lightning  happened, and after that a great clap of thunder, as is naturally the effect of it. I was not so  much surprised with the lightning, as I was with a thought which darted into my mind as  swift as the lightning itself. O my powder! My very heart sunk within me when I thought that  at one blast all my powder might be destroyed, on which, not my defence only, but the  providing me food, as I thought, entirely depended. I was nothing near so anxious about my  own danger; though had the powder took fire, I had never known who had hurt me.  Such impression did this make upon me, that after the storm was over I laid aside all my  works, my building, and fortifying, and applied myself to make bags and boxes to separate  the powder, and keep it a little and a little in a parcel, in hope that whatever might come it  might not all take fire at once, and to keep it so apart that it should not be possible to make  one part fire another. I finished this work in about a fortnight; and I think my powder, which  in all was about 240 pounds weight, was divided in not less than a hundred parcels. As to the  barrel that had been wet, I did not apprehend any danger from that, so I placed it in my new  cave, which in my fancy I called my kitchen, and the rest I hid up and down and in holes  among the rocks, so that no wet might come to it, marking very carefully where I laid it.  In the interval of time while this was doing, I went out once, at least, every day with my gun,  as well to divert myself, as to see if I could kill anything fit for food, and as near as I could to  acquaint myself with what the island produced. The first time I went out, I presently  discovered that there were goats in the island, which was a great satisfaction to me; but then it  was attended with this misfortune to me, viz., that they were so shy, so subtle, and so swift of  foot, that it was the difficultest thing in the world to come at them. But I was not discouraged  at this, not doubting but I might now and then shoot one, as it soon happened; for after I had  found their haunts a little, I laid wait in this manner for them. I observed if they saw me in the  valleys, though they were upon the rocks, they would run away as in a terrible fright; but if  they were feeding in the valleys, and I was upon the rocks, they took no notice of me, from  whence I concluded that, by the position of their optics, their sight was so directed  downward, that they did not readily see objects that were above them. So afterward I took  this method: I always climbed the rocks first to get above them, and then had frequently a fair  mark. The first shot I made among these creatures I killed a she-goat, which had a little kid  by her, which she gave suck to, which grieved me heartily; but when the old one fell, the kid  stood stock still by her till I came and took her up; and not only so, but when I carried the old  one with me upon my shoulders, the kid followed me quite to my enclosure; upon which I  laid down the dam, and took the kid in my arms, and carried it over my pale, in hopes to have  bred it up tame; but it would not eat, so I was forced to kill it, and eat it myself. These two  supplied me with flesh a great while, for I eat sparingly, and saved my provisions, my bread  especially, as much as possibly I could.  Having now fixed my habitation, I found it absolutely necessary to provide a place to make a  fire in, and fuel to burn; and what I did for that, as also how I enlarged my cave, and what  conveniences I made, I shall give a full account of in its place. But I must first give some  little account of myself, and of my thoughts about living, which it may well be supposed were  not a few. I had a dismal prospect of my condition; for as I was not cast away upon that  island without being driven, as is said, by a violent storm, quite out of the course of our  intended voyage, and a great way, viz., some hundreds of leagues out of the ordinary course  of the trade of mankind, I had great reason to consider it as a determination of Heaven, that in  this desolate place, and in this desolate manner, I should end my life. The tears would run  plentifully down face when I made these reflections, and sometimes I would expostulate with  myself, why Providence should thus completely ruin its creatures, and render them so  absolutely miserable, so without help abandoned, so entirely depressed, that it could hardly  be rational to be thankful for such a life.  But something always returned swift upon me to check these thoughts, and to reprove me;  and particularly one day, walking with my gun in my hand by the seaside, I was very pensive  upon the subject of my present condition, when reason, as it were, expostulated with me  t’other way, thus: “Well, you are in a desolate condition it is true, but pray remember, where  are the rest of you? Did not you come eleven of you in the boat? Where are the ten? Why  were not they saved, and you lost? Why were you singled out? Is it better to be here, or  there?” And then I pointed to the sea. All evils are to be considered with the good that is in  them, and with what worse attends them.  Then it occurred to me again, how well I was furnished for my subsistence, and what would  have been my case if it had not happened, which was a hundred thousand to one, that the ship  had floated from the place where she first struck and was driven so near to the shore that I  had time to get all these things out of her; what would have been my case, if I had been to  have lived in the condition in which I first came on shore, without necessaries of life, or  necessaries to supply and procure them? “Particularly,” said I aloud (though to myself),  “what should I have done without a gun, without ammunition, without any tools to make  anything or to work with, without clothes, bedding, a tent, or any manner of covering?” and  that now I had all these to a sufficient quantity, and was in a fair way to provide myself in  such a manner, as to live without my gun when my ammunition was spent; so that I had a  tolerable view of subsisting without any want as long as I lived. For I considered from the  beginning how I would provide for the accidents that might happen, and for the time that was  to come, even not only after my ammunition should be spent, but even after my health or  strength should decay.  I confess I had not entertained any notion of my ammunition being destroyed at one blast — I  mean, my powder being blown up by lightning; and this made the thoughts of it so surprising  to me when it lightened and thundered, as I observed just now.  And now being to enter into a melancholy relation of a scene of silent life, such, perhaps, as  was never heard of in the world before, I shall take it from its beginning and continue it in its  order. It was by my account, the 30th of September when, in the manner as above said, I first  set foot upon this horrid island, when the sun being to us in its autumnal equinox, was almost  just over my head, for I reckoned myself, by observation, to be in the latitude of 9 degrees 22  minutes north of the line.  After I had been there about ten or twelve days it came into my thoughts that I should lose  my reckoning of time for want of books and pen and ink, and should even forget the Sabbath  days from the working days; but to prevent this, I cut it with my knife upon a large post, in  capital letters; and making it into a great cross, I set it up on the shore where I first landed,  viz., “I came on shore here the 30th of September 1659.” Upon the sides of this square post I  cut every day a notch with my knife, and every seventh notch was as long again as the rest,  and every first day of the month as long again as that long one; and thus I kept my calendar,  or weekly, monthly, and yearly reckoning of time.  In the next place we are to observe that among the many things which I brought out of the  ship in the several voyages, which, as above mentioned, I made to it, I got several things of  less value, but not all less useful to me, which I omitted setting down before; as in particular,  pens, ink, and paper, several parcels in the captain’s, mate’s, gunner’s, and carpenter’s  keeping, three or four compasses, some mathematical instruments, dials, perspectives, charts,  and books of navigation, all of which I huddled together, whether I might want them or no.  Also I found three very good Bibles, which came to me in my cargo from England and which  I had packed up among my things; some Portuguese books, also, and among them two or  three Popish prayer-books, and several other books, all of which I carefully secured.  And I must not forget, that we had in the ship a dog and two cats, of whose eminent history I  may have occasion to say something in its place; for I carried both the cats with me; and as  for the dog he jumped out of the ship of himself, and swam on shore to me the day after I  went on shore with my first cargo, and was a trusty servant to me many years. I wanted  nothing that he could fetch me, nor any company that he could make up to me; I only wanted  to have him talk to me, but that would not do. As I observed before, I found pen, ink, and  paper, and I husbanded them to the utmost; and I shall show that while my ink lasted, I kept  things very exact; but after that was gone, I could not, for I could not make any ink by any  means that I could devise.  And this put me in mind that I wanted many things, notwithstanding all that I had amassed  together; and of these, this of ink was one, as also spade, pick-axe, and shovel, to dig or  remove the earth, needles, pins, and thread; as for linen, I soon learned to want that without  much difficulty.  This want of tools made every work I did go on heavily; and it was near a whole year before I  had entirely finished my little pale or surrounded habitation. The piles or stakes, which were  as heavy as I could well lift, were a long time in cutting and preparing in the woods, and  more by far in bringing home; so that I spent sometimes two days in cutting and bringing  home one of those posts, and a third day in driving it into the ground; for which purpose I got  a heavy piece of wood at first, but at last bethought myself of one of the iron crows, which,  however, though I found it, yet it made driving those posts or piles very laborious and tedious  work.  But what need I have been concerned at the tediousness of anything I had to do, seeing I had  time enough to do it in? Nor had I any other employment, if that had been over, at least that I  could foresee, except the ranging the island to seek for food, which I did more or less every  day.  I now began to consider seriously my condition, and the circumstance I was reduced to; and I  drew up the state of my affairs in writing; not so much to leave them to any that were to come  after me, for I was like to have but few heirs, as to deliver my thoughts from daily poring  upon them; and afflicting my mind. And as my reason began now to master my despondency,  I began to comfort myself as well as I could, and to set the good against the evil, that I might  have something to distinguish my case from worse; and I stated it very impartially, like a  debtor and creditor, the comforts I enjoyed against the miseries I suffered, thus:  Evil: I am cast upon a horrible desolate island, void of all hope of recovery.  Good: But I am alive, and not drowned, as all my ship’s company was.  Evil: I am singled out and separated, as it were, from all the world to be miserable.  Good: But I am singled out, too, from all the ship’s crew to be spared from death; and He that  miraculously saved me from death, can deliver me from this condition.  Evil: I am divided from mankind, a solitaire, one banished from human society.  Good: But I am not starved and perishing on a barren place, affording no sustenance.  Evil: I have not clothes to cover me.  Good: But I am in a hot climate, where if I had clothes I could hardly wear them.  Evil: I am without any defence or means to resist any violence of man or beast.  Good: But I am cast on an island, where I see no wild beasts to hurt me, as I saw on the coast  of Africa; and what if I had been shipwrecked there?  Evil: I have no soul to speak to, or relieve me.  Good: But God wonderfully sent the ship in near enough to the shore, that I have gotten out  so many necessary things as will either supply my wants, or enable me to supply myself even  as long as I live.  Upon the whole, here was an undoubted testimony, that there was scarce any condition in the  world so miserable but there was something negative or something positive to be thankful for  in it; and let this stand as a direction from the experience of the most miserable of all  conditions in this world, that we may always find in it something to comfort ourselves from,  and to set in the description of good and evil on the credit side of the account.  Having now brought my mind a little to relish my condition, and given over looking out to  sea, to see if I could spy a ship; I say, giving over these things, I began to apply myself to  accomodate my way of living, and to make things as easy to me as I could.  I have already described my habitation, which was a tent under the side of a rock, surrounded  with a strong pale of posts and cables; but I might now rather call it a wall, for I raised a kind  of wall up against it of turfs, about two feet thick on the outside, and after some time — I  think it was a year and a half – I raised rafters from it leaning to the rock, and thatched or  covered it with boughs of trees and such things as I could get to keep out the rain, which I  found at some times of the year very violent.  I have already observed how I brought all my goods into this pale, and into the cave which I  had made behind me. But I must observe, too, that at first this was a confused heap of goods,  which as they lay in no order, so they took up all my place; I had no room to turn myself. So I  set myself to enlarge my cave and works farther into the earth; for it was a loose sandy rock  which yielded easily to the labor I bestowed on it. And so, when I found I was pretty safe as  to beasts of prey, I worked sideways to the right hand into the rock; and then, turning to the  right again, working quite out, and made me a door to come out on the outside of my pale or  fortification. This gave me not only egress and regress, as it were a back-way to my tent and  to my storehouse, but gave me room to stow my goods.  And now I began to apply myself to make such necessary things as I found I most wanted, as  particularly a chair and a table; for without these I was not able to enjoy the few comforts I  had in the world. I could not write or eat, or do several things with so much pleasure without  a table.  So I went to work: and here I must needs observe, that as reason is the substance and original  of the mathematics, so by stating and squaring everything by reason, and by making the most  rational judgment of things, every man may be in time master of every mechanic art. I had  never handled a tool in my life; and yet in time, by labor, application, and contrivance, I  found at last that I wanted nothing but I could have made it, especially if I had had more  tools. However, I made abundance of things even without tools, and some with no more tools  than an adze and a hatchet, which, perhaps, were never made that way before, and that with  infinite labor. For example, if I wanted a board, I had no other way but to cut down a tree, set  it on an edge before me, and hew it flat on either side with my axe, till I had brought it to be  thick as a plank, and then dub it smooth with my adze. It is true, by this method I could make  but one board out of a whole tree; but this I had no remedy for but patience, any more than I  had for the prodigious deal of time and labor which it took me up to make a plank or board.  But my time or labor was little worth, and so it was as well employed one way as another.  However, I made me a table and a chair, as I observed above, in the first place, and this I did  out of the short pieces of boards that I brought on my raft from the ship. But when I had  wrought out some boards, as above, I made large shelves of the breadth of a foot and a half  one over another, all along one side of my cave, to lay all my tools, nails, and ironwork; and,  in a word, to separate everything at large in their places, that I might come easily at them. I  knocked pieces into the wall of the rock to hang my guns and all things that would hang up;  so that had my cave been to be seen, it looked like a general magazine of all necessary things;  and I had everything so ready at my hand, that it was a great pleasure to me to see all my  goods in such order, and especially to find my stock of all necessaries so great.  And now it was when I began to keep a journal of every day’s employment; for, indeed, at  first, I was in too much hurry, and not only hurry as to labor, but in too much discomposure  of mind; and my journal would have been full of many dull things. For example, I must have  said thus: September the 30th. — After I got to shore, and had escaped drowning, instead of  being thankful to God for my deliverance, having first vomited with the great quantity of salt  water which was gotten into my stomach, and recovering myself a little, I ran about the shore,  wringing my hands, and beating my head and face, exclaiming at my misery, and crying out,  I was undone, undone, till, tired and faint, I was forced to lie down on the ground to repose;  but durst not sleep, for fear of being devoured.  Some days after this, and after I had been on board the ship and got all that I could out of her,  yet I could not forbear getting up to the top of a little mountain, and looking out to sea, in  hopes of seeing a ship; then fancy at a vast distance I spied a sail, please myself with the  hopes of it, and then, after looking steadily till I was almost blind, lose it quite, and sit down  and weep like a child, and thus increase my misery by my folly.  But having gotten over these things in some measure, and having settled my household stuff  and habitation, made me a table and a chair, and all as handsome about me as I could, I began  to keep my journal, of which I shall here give you the copy (though in it will be told all these  particulars over again) as long as it lasted; for, having no more ink, I was forced to leave it  off. \n"
     ]
    }
   ],
   "source": [
    "import fitz  # PyMuPDF\n",
    "from sklearn.feature_extraction.text import TfidfVectorizer\n",
    "from sklearn.metrics.pairwise import cosine_similarity\n",
    "import numpy as np\n",
    "vectorizer = TfidfVectorizer()\n",
    "tfidf_matrix = vectorizer.fit_transform(tokenized_texts)\n",
    "def extract_text_and_font_sizes_from_pdf(pdf_path):\n",
    "    document = fitz.open(pdf_path)\n",
    "    text_font_size_data = []\n",
    "    for page_num in range(len(document)):\n",
    "        page = document.load_page(page_num)\n",
    "        blocks = page.get_text(\"dict\")[\"blocks\"]\n",
    "        for block in blocks:\n",
    "            if block[\"type\"] == 0:  # Text block\n",
    "                for line in block[\"lines\"]:\n",
    "                    for span in line[\"spans\"]:\n",
    "                        text_font_size_data.append((span[\"text\"], span[\"size\"]))\n",
    "    return text_font_size_data\n",
    "\n",
    "def categorize_text_by_font_size(text_font_size_data):\n",
    "    headings_threshold = 16\n",
    "    subheadings_threshold = 12\n",
    "    para_threshold = 8\n",
    "    document_structure = {}\n",
    "    current_heading = None\n",
    "    current_subheading = None\n",
    "\n",
    "    for text, font_size in text_font_size_data:\n",
    "        if font_size > headings_threshold:\n",
    "            if current_heading and not document_structure[current_heading]:\n",
    "                document_structure[current_heading][current_heading] = []\n",
    "            document_structure[text] = {}\n",
    "            current_heading = text\n",
    "            current_subheading = None\n",
    "        elif font_size > subheadings_threshold:\n",
    "            if current_heading:\n",
    "                document_structure[current_heading][text] = []\n",
    "                current_subheading = text\n",
    "        elif font_size > para_threshold:\n",
    "            if current_heading:\n",
    "                if current_subheading:\n",
    "                    document_structure[current_heading][current_subheading].append(text)\n",
    "                else:\n",
    "                    document_structure[current_heading][current_heading] = [text]\n",
    "                    current_subheading = current_heading\n",
    "\n",
    "    if current_heading and not document_structure[current_heading]:\n",
    "        document_structure[current_heading][current_heading] = []\n",
    "\n",
    "    return document_structure\n",
    "\n",
    "def vectorize_text(document_structure):\n",
    "    all_texts = []\n",
    "    index_map = []\n",
    "\n",
    "    for heading, subheadings in document_structure.items():\n",
    "        all_texts.append(heading)\n",
    "        index_map.append((heading, None, None))\n",
    "        for subheading, texts in subheadings.items():\n",
    "            all_texts.append(subheading)\n",
    "            index_map.append((heading, subheading, None))\n",
    "            for text in texts:\n",
    "                all_texts.append(text)\n",
    "                index_map.append((heading, subheading, text))\n",
    "    return index_map\n",
    "\n",
    "\n",
    "def find_best_match(tfidf_matrix, question_tfidf, index_map):\n",
    "    similarities = cosine_similarity(question_tfidf, tfidf_matrix).flatten()\n",
    "    best_index = np.argmax(similarities)\n",
    "    best_similarity = similarities[best_index]\n",
    "    best_match = index_map[best_index]\n",
    "    \n",
    "    return best_match, best_similarity, similarities\n",
    "\n",
    "def get_best_paragraph(similarities, index_map, document_structure, threshold=0.2):\n",
    "    best_heading, best_subheading, _ = index_map[np.argmax(similarities)]\n",
    "    \n",
    "    if best_subheading is None:\n",
    "        all_text = ' '.join([text for subheadings in document_structure[best_heading].values() for text in subheadings])\n",
    "    else:\n",
    "        all_text = ' '.join(document_structure[best_heading][best_subheading])\n",
    "    \n",
    "    if np.max(similarities) < threshold:\n",
    "        all_text = ' '.join([text for heading in document_structure for subheadings in document_structure[heading].values() for text in subheadings])\n",
    "    \n",
    "    return all_text\n",
    "\n",
    "def filtered_context(pdf_path, question_tfidf, tfidf_matrix):\n",
    "    text_font_size_data = extract_text_and_font_sizes_from_pdf(pdf_path)\n",
    "    document_structure = categorize_text_by_font_size(text_font_size_data)\n",
    "    \n",
    "    '''print(\"Document structure:\")\n",
    "    for heading, subheadings in document_structure.items():\n",
    "        print(f\"Heading: {heading}\")\n",
    "        for subheading, texts in subheadings.items():\n",
    "            print(f\"  Subheading: {subheading}\")\n",
    "            for text in texts:\n",
    "                print(f\"    Text: {text}\")'''\n",
    "    \n",
    "    index_map = vectorize_text(document_structure)\n",
    "    best_match, best_similarity, similarities = find_best_match(tfidf_matrix, question_tfidf, index_map)\n",
    "    \n",
    "    print(f\"Best match: {best_match}\")\n",
    "    print(f\"Best similarity: {best_similarity}\")\n",
    "    \n",
    "    best_paragraph = get_best_paragraph(similarities, index_map, document_structure)\n",
    "    \n",
    "    return best_paragraph\n",
    "question='Who was robinson crusoe ?'\n",
    "question_tokenized=tokenize([question])\n",
    "question_tfidf=vectorizer.transform(question_tokenized)\n",
    "answer = filtered_context(pdf_path, question_tfidf, tfidf_matrix)\n",
    "\n",
    "print(f\"Answer: {answer}\")\n"
   ]
  },
  {
   "cell_type": "code",
   "execution_count": 11,
   "id": "00dafb8e-ef8a-48fa-9908-c266a74fcbdc",
   "metadata": {},
   "outputs": [],
   "source": [
    "def answer_question(contexts, question):\n",
    "    qa_input = {\n",
    "        'question': question,\n",
    "        'context': contexts\n",
    "    }\n",
    "    result = question_answering_model(qa_input)\n",
    "    \n",
    "    return result"
   ]
  },
  {
   "cell_type": "code",
   "execution_count": 12,
   "id": "e89767c5-7a9a-4b4b-be13-d930434c145f",
   "metadata": {},
   "outputs": [],
   "source": [
    "def top_answer(pdf_path, question, question_tfidf, tfidf_matrix):\n",
    "    # Pair each element with its index\n",
    "    contexts=filtered_context(pdf_path, question_tfidf, tfidf_matrix)\n",
    "    print(question)\n",
    "    return answer_question(contexts, question)\n"
   ]
  },
  {
   "cell_type": "code",
   "execution_count": 13,
   "id": "c13eae58-b435-416e-b92a-3d5f0ddfb0fe",
   "metadata": {},
   "outputs": [
    {
     "name": "stdout",
     "output_type": "stream",
     "text": [
      "Best match: ('4. First Weeks On The Island ', '4. First Weeks On The Island ', 'all other things apart till I got everything out of the ship that I could get. Then I called a ')\n",
      "Best similarity: 0.4576897168166385\n",
      "Who was robinson crusoe ?\n",
      "{'score': 0.0020786975510418415, 'start': 32288, 'end': 32341, 'answer': 'lived in the condition in which I first came on shore'}\n"
     ]
    }
   ],
   "source": [
    "print(top_answer(pdf_path, question, question_tfidf, tfidf_matrix))"
   ]
  },
  {
   "cell_type": "code",
   "execution_count": null,
   "id": "a503a51f-bf29-4a0d-818f-c02643e1af77",
   "metadata": {},
   "outputs": [],
   "source": []
  }
 ],
 "metadata": {
  "kernelspec": {
   "display_name": "Python 3 (ipykernel)",
   "language": "python",
   "name": "python3"
  },
  "language_info": {
   "codemirror_mode": {
    "name": "ipython",
    "version": 3
   },
   "file_extension": ".py",
   "mimetype": "text/x-python",
   "name": "python",
   "nbconvert_exporter": "python",
   "pygments_lexer": "ipython3",
   "version": "3.11.0"
  }
 },
 "nbformat": 4,
 "nbformat_minor": 5
}
